{
  "cells": [
    {
      "cell_type": "markdown",
      "metadata": {
        "id": "-BRWdtuPvyOG"
      },
      "source": [
        "# Intracacies of Study Environments at IIT Hyderabad\n",
        "## Project No: 3\n",
        "### Group Members:\n",
        "1. Prakhar Patni - MA20BTECH11014 \n",
        "2. K N Vardhan - MA20BTECH11006\n",
        "3. Varunaditya Singhal - MA20BTECH11021\n",
        "4. Tanmay Goyal - AI20BTECH11021\n",
        "5. Tanay Yadav  - AI20BTECH11026\n",
        "6. Sujal  - AI20BTECH11020"
      ]
    },
    {
      "cell_type": "markdown",
      "metadata": {
        "id": "qEHNk5sXvzVm"
      },
      "source": [
        "## Importing libraries and getting the data as a Pandas Dataframe from a .csv file"
      ]
    },
    {
      "cell_type": "code",
      "execution_count": 1,
      "metadata": {
        "id": "ElXx7Nm6g0qd"
      },
      "outputs": [],
      "source": [
        "# importing the required libraries\n",
        "\n",
        "import numpy as np\n",
        "import pandas as pd\n",
        "import scipy.stats as st\n",
        "import matplotlib.pyplot as plt\n",
        "import warnings\n",
        "warnings.filterwarnings('ignore')"
      ]
    },
    {
      "cell_type": "code",
      "execution_count": 2,
      "metadata": {
        "id": "vJlHXvc3hYaP"
      },
      "outputs": [],
      "source": [
        "# importing the collected data\n",
        "\n",
        "df = pd.read_csv('responses_project.csv')"
      ]
    },
    {
      "cell_type": "markdown",
      "metadata": {
        "id": "3rL4PD5Gv_W4"
      },
      "source": [
        "## Processing the data"
      ]
    },
    {
      "cell_type": "code",
      "execution_count": 3,
      "metadata": {
        "colab": {
          "base_uri": "https://localhost:8080/",
          "height": 459
        },
        "id": "4f5iYqEohcs4",
        "outputId": "0fe663ea-6106-44d0-9067-1f79b5c1360c"
      },
      "outputs": [
        {
          "data": {
            "text/html": [
              "<div>\n",
              "<style scoped>\n",
              "    .dataframe tbody tr th:only-of-type {\n",
              "        vertical-align: middle;\n",
              "    }\n",
              "\n",
              "    .dataframe tbody tr th {\n",
              "        vertical-align: top;\n",
              "    }\n",
              "\n",
              "    .dataframe thead th {\n",
              "        text-align: right;\n",
              "    }\n",
              "</style>\n",
              "<table border=\"1\" class=\"dataframe\">\n",
              "  <thead>\n",
              "    <tr style=\"text-align: right;\">\n",
              "      <th></th>\n",
              "      <th>Timestamp</th>\n",
              "      <th>Where do you like to study?</th>\n",
              "      <th>Gender</th>\n",
              "      <th>Do you prefer to study alone ?</th>\n",
              "      <th>How many Hours do you study in one go ?</th>\n",
              "      <th>Do you prefer snacks while studying ?</th>\n",
              "      <th>In which Block you stay?</th>\n",
              "      <th>Do you prefer to study on Bed or Study table?</th>\n",
              "      <th>Which program are you enrolled in ?</th>\n",
              "      <th>Which department are you in ?</th>\n",
              "      <th>Do you prefer Live Lectures or Recording?</th>\n",
              "      <th>Do you prefer to study with Lec recording or Lec slides?</th>\n",
              "      <th>Score</th>\n",
              "    </tr>\n",
              "  </thead>\n",
              "  <tbody>\n",
              "    <tr>\n",
              "      <th>0</th>\n",
              "      <td>4/5/2022 17:26:17</td>\n",
              "      <td>Your Room</td>\n",
              "      <td>Male</td>\n",
              "      <td>Alone</td>\n",
              "      <td>2-3 Hrs</td>\n",
              "      <td>Yes</td>\n",
              "      <td>Ramanuja</td>\n",
              "      <td>Bed</td>\n",
              "      <td>Undergraduate</td>\n",
              "      <td>Mathematics</td>\n",
              "      <td>Recording</td>\n",
              "      <td>Slides</td>\n",
              "      <td>NaN</td>\n",
              "    </tr>\n",
              "    <tr>\n",
              "      <th>1</th>\n",
              "      <td>4/5/2022 20:18:50</td>\n",
              "      <td>Your Room</td>\n",
              "      <td>Male</td>\n",
              "      <td>Alone</td>\n",
              "      <td>1-2 Hrs</td>\n",
              "      <td>No</td>\n",
              "      <td>Ramanuja</td>\n",
              "      <td>Study Table</td>\n",
              "      <td>Undergraduate</td>\n",
              "      <td>Mathematics</td>\n",
              "      <td>Recording</td>\n",
              "      <td>Slides</td>\n",
              "      <td>NaN</td>\n",
              "    </tr>\n",
              "    <tr>\n",
              "      <th>2</th>\n",
              "      <td>4/5/2022 21:07:57</td>\n",
              "      <td>Your Room</td>\n",
              "      <td>Male</td>\n",
              "      <td>Alone</td>\n",
              "      <td>1-2 Hrs</td>\n",
              "      <td>Yes</td>\n",
              "      <td>Ramanuja</td>\n",
              "      <td>Study Table</td>\n",
              "      <td>Undergraduate</td>\n",
              "      <td>Mathematics</td>\n",
              "      <td>Live Lectures</td>\n",
              "      <td>Slides</td>\n",
              "      <td>NaN</td>\n",
              "    </tr>\n",
              "    <tr>\n",
              "      <th>3</th>\n",
              "      <td>4/5/2022 21:18:02</td>\n",
              "      <td>Your Room</td>\n",
              "      <td>Female</td>\n",
              "      <td>Alone</td>\n",
              "      <td>2-3 Hrs</td>\n",
              "      <td>Yes</td>\n",
              "      <td>Gargi</td>\n",
              "      <td>Both</td>\n",
              "      <td>Undergraduate</td>\n",
              "      <td>Physics</td>\n",
              "      <td>Live Lectures</td>\n",
              "      <td>Slides</td>\n",
              "      <td>NaN</td>\n",
              "    </tr>\n",
              "    <tr>\n",
              "      <th>4</th>\n",
              "      <td>4/5/2022 21:18:13</td>\n",
              "      <td>Academic Block</td>\n",
              "      <td>Female</td>\n",
              "      <td>Alone</td>\n",
              "      <td>3-4 Hrs</td>\n",
              "      <td>Sometimes</td>\n",
              "      <td>Bhaskara</td>\n",
              "      <td>Study Table</td>\n",
              "      <td>Undergraduate</td>\n",
              "      <td>Mathematics</td>\n",
              "      <td>Both are equally preferable</td>\n",
              "      <td>Slides</td>\n",
              "      <td>NaN</td>\n",
              "    </tr>\n",
              "  </tbody>\n",
              "</table>\n",
              "</div>"
            ],
            "text/plain": [
              "           Timestamp Where do you like to study?  Gender  \\\n",
              "0  4/5/2022 17:26:17                   Your Room    Male   \n",
              "1  4/5/2022 20:18:50                   Your Room    Male   \n",
              "2  4/5/2022 21:07:57                   Your Room    Male   \n",
              "3  4/5/2022 21:18:02                   Your Room  Female   \n",
              "4  4/5/2022 21:18:13              Academic Block  Female   \n",
              "\n",
              "  Do you prefer to study alone ? How many Hours do you study in one go ?  \\\n",
              "0                          Alone                                 2-3 Hrs   \n",
              "1                          Alone                                 1-2 Hrs   \n",
              "2                          Alone                                 1-2 Hrs   \n",
              "3                          Alone                                 2-3 Hrs   \n",
              "4                          Alone                                 3-4 Hrs   \n",
              "\n",
              "  Do you prefer snacks while studying ? In which Block you stay?  \\\n",
              "0                                   Yes                 Ramanuja   \n",
              "1                                    No                 Ramanuja   \n",
              "2                                   Yes                 Ramanuja   \n",
              "3                                   Yes                    Gargi   \n",
              "4                             Sometimes                 Bhaskara   \n",
              "\n",
              "  Do you prefer to study on Bed or Study table?  \\\n",
              "0                                           Bed   \n",
              "1                                   Study Table   \n",
              "2                                   Study Table   \n",
              "3                                          Both   \n",
              "4                                   Study Table   \n",
              "\n",
              "  Which program are you enrolled in ? Which department are you in ?  \\\n",
              "0                       Undergraduate                   Mathematics   \n",
              "1                       Undergraduate                   Mathematics   \n",
              "2                       Undergraduate                   Mathematics   \n",
              "3                       Undergraduate                       Physics   \n",
              "4                       Undergraduate                   Mathematics   \n",
              "\n",
              "  Do you prefer Live Lectures or Recording?  \\\n",
              "0                                 Recording   \n",
              "1                                 Recording   \n",
              "2                             Live Lectures   \n",
              "3                             Live Lectures   \n",
              "4               Both are equally preferable   \n",
              "\n",
              "  Do you prefer to study with Lec recording or Lec slides?  Score  \n",
              "0                                             Slides          NaN  \n",
              "1                                             Slides          NaN  \n",
              "2                                             Slides          NaN  \n",
              "3                                             Slides          NaN  \n",
              "4                                             Slides          NaN  "
            ]
          },
          "execution_count": 3,
          "metadata": {},
          "output_type": "execute_result"
        }
      ],
      "source": [
        "df.head()"
      ]
    },
    {
      "cell_type": "code",
      "execution_count": 4,
      "metadata": {
        "id": "SWgELDmkhdPQ"
      },
      "outputs": [],
      "source": [
        "# removing unneccesary extra whitespace in column names\n",
        "df.columns = [x.lower().rstrip() for x in df.columns]\n",
        "\n",
        "# dropping the columns not required for the further analysis\n",
        "\n",
        "df = df.drop(columns=['timestamp', 'score'])"
      ]
    },
    {
      "cell_type": "code",
      "execution_count": 5,
      "metadata": {
        "id": "Q9q_d7yzi0c_"
      },
      "outputs": [],
      "source": [
        "# since hostel blocks are an important statistic, we drop the entries with no entry for the hostel block\n",
        "\n",
        "df.dropna(subset=['in which block you stay?'], inplace=True)\n"
      ]
    },
    {
      "cell_type": "code",
      "execution_count": 6,
      "metadata": {
        "id": "gMPK_wNGjn40"
      },
      "outputs": [],
      "source": [
        "# replacing the NaN values with the modal value for the Question\n",
        "\n",
        "df['do you prefer snacks while studying ?'].fillna(\n",
        "    str(df['do you prefer snacks while studying ?'].mode()[0]), inplace=True)\n",
        "df['do you prefer to study on bed or study table?'].fillna(\n",
        "    str(df['do you prefer to study on bed or study table?'].mode()[0]), inplace=True)\n",
        "df['do you prefer live lectures or recording?'].fillna(\n",
        "    str(df['do you prefer live lectures or recording?'].mode()[0]), inplace=True)"
      ]
    },
    {
      "cell_type": "code",
      "execution_count": 7,
      "metadata": {
        "id": "jIQ2QlcKjrmU"
      },
      "outputs": [],
      "source": [
        "# replacing the block names with block codes \n",
        "# A - Aryabhatta, B - Bhaskara, C - Charaka, D - Susruta, E - Kautilya, F - Vyasa\n",
        "# G - Brahmagupta, H - Varahamira, I - Gargi, J - Maitreyi, P - Kapila, R - Ramanuja\n",
        "\n",
        "to_replace_blocks = ['Aryabhatta', 'Bhaskara', 'Brahmagupta', 'Charaka', 'Gargi', 'Kapila',\n",
        "                     'Kautilya', 'Maitreyi', 'Ramanuja', 'Susruta', 'Varahamira', 'Vyasa']\n",
        "\n",
        "value_blocks = ['A', 'B', 'G', 'C', 'I', 'P', 'E', 'J', 'R', 'D', 'H', 'F']\n",
        "df['in which block you stay?'].replace(to_replace_blocks, value_blocks, inplace=True)"
      ]
    },
    {
      "cell_type": "code",
      "execution_count": 8,
      "metadata": {
        "id": "sAHOuIe7jxLh"
      },
      "outputs": [],
      "source": [
        "# similarly, replacing the department names with the departmental codes at IITH\n",
        "\n",
        "to_replace_depts = ['Artificial Intelligence', 'Bio Engineering', 'Chemical Engineering', 'Chemistry', \n",
        "                    'Civil Engineering', 'Computer Science', 'Design Department', 'Electrical Engineering', \n",
        "                    'Liberal Arts Department', 'Material Engineering', 'Mathematics', 'Mechanical Engineering', \n",
        "                    'Others', 'Physics']\n",
        "\n",
        "value_depts = ['AI', 'BM', 'CH', 'CY', 'CE', 'CS', 'DES', 'EE', 'LA', 'MS', 'MA', 'ME', 'Others', 'PH']\n",
        "df['which department are you in ?'].replace(to_replace_depts, value_depts, inplace=True)"
      ]
    },
    {
      "cell_type": "code",
      "execution_count": 9,
      "metadata": {
        "id": "JyyHwtuopp79"
      },
      "outputs": [],
      "source": [
        "# similarly, replacing the study hours to float value format\n",
        "\n",
        "to_replace_hrs = ['1-2 Hrs', '2-3 Hrs', '3-4 Hrs', '4-5 Hrs', '5-6 Hrs', '6-7 Hrs', '7-8 Hrs']\n",
        "value_hrs = [1.5, 2.5, 3.5, 4.5, 5.5, 6.5, 7.5]\n",
        "df['how many hours do you study in one go ?'].replace(to_replace_hrs, value_hrs, inplace=True)"
      ]
    },
    {
      "cell_type": "markdown",
      "metadata": {
        "id": "V4fpnY2v9RQs"
      },
      "source": [
        "## Analyzing the Uni-variate Numerical dataset"
      ]
    },
    {
      "cell_type": "code",
      "execution_count": 10,
      "metadata": {
        "colab": {
          "base_uri": "https://localhost:8080/",
          "height": 300
        },
        "id": "9Krq6yiwwHfM",
        "outputId": "e5b909fd-990c-4bf6-f74c-abd71e2d2f6c"
      },
      "outputs": [
        {
          "data": {
            "text/html": [
              "<div>\n",
              "<style scoped>\n",
              "    .dataframe tbody tr th:only-of-type {\n",
              "        vertical-align: middle;\n",
              "    }\n",
              "\n",
              "    .dataframe tbody tr th {\n",
              "        vertical-align: top;\n",
              "    }\n",
              "\n",
              "    .dataframe thead th {\n",
              "        text-align: right;\n",
              "    }\n",
              "</style>\n",
              "<table border=\"1\" class=\"dataframe\">\n",
              "  <thead>\n",
              "    <tr style=\"text-align: right;\">\n",
              "      <th></th>\n",
              "      <th>how many hours do you study in one go ?</th>\n",
              "    </tr>\n",
              "  </thead>\n",
              "  <tbody>\n",
              "    <tr>\n",
              "      <th>count</th>\n",
              "      <td>118.000000</td>\n",
              "    </tr>\n",
              "    <tr>\n",
              "      <th>mean</th>\n",
              "      <td>2.466102</td>\n",
              "    </tr>\n",
              "    <tr>\n",
              "      <th>std</th>\n",
              "      <td>1.246754</td>\n",
              "    </tr>\n",
              "    <tr>\n",
              "      <th>min</th>\n",
              "      <td>1.500000</td>\n",
              "    </tr>\n",
              "    <tr>\n",
              "      <th>25%</th>\n",
              "      <td>1.500000</td>\n",
              "    </tr>\n",
              "    <tr>\n",
              "      <th>50%</th>\n",
              "      <td>2.500000</td>\n",
              "    </tr>\n",
              "    <tr>\n",
              "      <th>75%</th>\n",
              "      <td>2.500000</td>\n",
              "    </tr>\n",
              "    <tr>\n",
              "      <th>max</th>\n",
              "      <td>7.500000</td>\n",
              "    </tr>\n",
              "  </tbody>\n",
              "</table>\n",
              "</div>"
            ],
            "text/plain": [
              "       how many hours do you study in one go ?\n",
              "count                               118.000000\n",
              "mean                                  2.466102\n",
              "std                                   1.246754\n",
              "min                                   1.500000\n",
              "25%                                   1.500000\n",
              "50%                                   2.500000\n",
              "75%                                   2.500000\n",
              "max                                   7.500000"
            ]
          },
          "execution_count": 10,
          "metadata": {},
          "output_type": "execute_result"
        }
      ],
      "source": [
        "# getting an overall summary of our data \n",
        "\n",
        "df.describe()"
      ]
    },
    {
      "cell_type": "code",
      "execution_count": 11,
      "metadata": {
        "colab": {
          "base_uri": "https://localhost:8080/"
        },
        "id": "hXejllnr9IRM",
        "outputId": "c9cd7cfa-c281-4d6b-cdb1-e06474f0cc61"
      },
      "outputs": [
        {
          "name": "stdout",
          "output_type": "stream",
          "text": [
            "Mean -> 2.4661016949152543 hrs\n",
            "Median -> 2.5 hrs\n",
            "Mode -> 2.5 hrs\n"
          ]
        }
      ],
      "source": [
        "# finding the mean, median, and mode\n",
        "\n",
        "print(f'Mean -> {df[\"how many hours do you study in one go ?\"].mean()} hrs')\n",
        "print(f'Median -> {df[\"how many hours do you study in one go ?\"].median()} hrs')\n",
        "print(f'Mode -> {df[\"how many hours do you study in one go ?\"].median()} hrs')"
      ]
    },
    {
      "cell_type": "code",
      "execution_count": 12,
      "metadata": {
        "colab": {
          "base_uri": "https://localhost:8080/"
        },
        "id": "WWdBQ46jwKtJ",
        "outputId": "2d2019fc-8eda-47ff-86cb-9916a666ea1e"
      },
      "outputs": [
        {
          "name": "stdout",
          "output_type": "stream",
          "text": [
            "95% Confidence Interval -> (2.238819810180139, 2.69338357965037)\n",
            "99% Confidence Interval -> (2.1656101375328065, 2.766593252297702)\n"
          ]
        }
      ],
      "source": [
        "# finding the confidence intervals for the numerical dataset\n",
        "\n",
        "new_df = df['how many hours do you study in one go ?'].to_numpy()\n",
        "\n",
        "# 95% confidence interval\n",
        "Interval_95 = st.t.interval(alpha=0.95, df=len(new_df), loc=np.mean(new_df), scale=st.sem(new_df))\n",
        "print(f'95% Confidence Interval -> {Interval_95}')\n",
        "\n",
        "# 99% confidence interval\n",
        "Interval_99 = st.t.interval(alpha=0.99, df=len(new_df), loc=np.mean(new_df), scale=st.sem(new_df))\n",
        "print(f'99% Confidence Interval -> {Interval_99}')\n"
      ]
    },
    {
      "cell_type": "code",
      "execution_count": 13,
      "metadata": {
        "colab": {
          "base_uri": "https://localhost:8080/",
          "height": 592
        },
        "id": "QcGLxkpswMvY",
        "outputId": "ee35e1f2-e9a9-4987-fa8b-e0ad5e61cc21"
      },
      "outputs": [
        {
          "data": {
            "image/png": "[encoded data removed]",
            "text/plain": [
              "<Figure size 720x720 with 2 Axes>"
            ]
          },
          "metadata": {
            "needs_background": "light"
          },
          "output_type": "display_data"
        }
      ],
      "source": [
        "# plot of uni-variate numerical dataset\n",
        "\n",
        "plt.figure(figsize=(10, 10))\n",
        "plt.subplot(2, 1, 1)\n",
        "df.boxplot(column=['how many hours do you study in one go ?'], grid=True)\n",
        "plt.subplot(2, 1, 2)\n",
        "plt.stem(df['how many hours do you study in one go ?'], markerfmt='ro', linefmt='k-')\n",
        "plt.show()"
      ]
    },
    {
      "cell_type": "markdown",
      "metadata": {
        "id": "3pGfBG7pwR8_"
      },
      "source": [
        "## Visualizing the collected data"
      ]
    },
    {
      "cell_type": "code",
      "execution_count": 14,
      "metadata": {
        "id": "zDc7eo3gwQON"
      },
      "outputs": [],
      "source": [
        "# preparing the titles for each of the bar graphs plotted\n",
        "titles = list(df.columns)"
      ]
    },
    {
      "cell_type": "code",
      "execution_count": 15,
      "metadata": {
        "colab": {
          "base_uri": "https://localhost:8080/",
          "height": 1000
        },
        "id": "drwxeYk7wUPt",
        "outputId": "16625130-bc18-4076-c679-337d1bc97b54"
      },
      "outputs": [
        {
          "data": {
            "image/png": "[encoded data removed]",
            "text/plain": [
              "<Figure size 1800x1800 with 11 Axes>"
            ]
          },
          "metadata": {
            "needs_background": "light"
          },
          "output_type": "display_data"
        }
      ],
      "source": [
        "# converting the pandas dataframe to a numpy array to get the counts to visualise the obtained data\n",
        "\n",
        "data_numpy = df.to_numpy()\n",
        "\n",
        "# plotting the acquired data\n",
        "plt.figure(figsize=(25, 25))\n",
        "for i in range(data_numpy.shape[1]):\n",
        "    plt.subplot(3, 4, i+1)\n",
        "    plt.title(titles[i])\n",
        "    plotable_data = np.unique(data_numpy[:, i], return_counts=True)\n",
        "    plt.bar(plotable_data[0], plotable_data[1], color='r')\n",
        "plt.show()"
      ]
    },
    {
      "cell_type": "markdown",
      "metadata": {
        "id": "ofoXvyT_wY-U"
      },
      "source": [
        "## Plotting 2 Categorical variables in a segmented bar plot. "
      ]
    },
    {
      "cell_type": "markdown",
      "metadata": {
        "id": "7OKawgpdwayc"
      },
      "source": [
        "**Where you like to study?** vs **In which block you stay?**"
      ]
    },
    {
      "cell_type": "code",
      "execution_count": 16,
      "metadata": {
        "colab": {
          "base_uri": "https://localhost:8080/",
          "height": 444
        },
        "id": "1RcepLq_wVmz",
        "outputId": "d26df960-b398-4d03-e887-4559ef3145fb"
      },
      "outputs": [
        {
          "data": {
            "image/png": "[encoded data removed]",
            "text/plain": [
              "<Figure size 864x504 with 1 Axes>"
            ]
          },
          "metadata": {
            "needs_background": "light"
          },
          "output_type": "display_data"
        }
      ],
      "source": [
        "# getting the values for the preferred place to study\n",
        "counts_s_b = np.zeros((12, 3))\n",
        "for i in range(data_numpy.shape[0]):\n",
        "    idx = 0\n",
        "    for j in value_blocks:\n",
        "        if j == data_numpy[i, 5]:\n",
        "            if data_numpy[i, 0] == 'Academic Block':\n",
        "                counts_s_b[idx, 0] += 1\n",
        "            if data_numpy[i, 0] == \"Your Friends' room\":\n",
        "                counts_s_b[idx, 1] += 1\n",
        "            if data_numpy[i, 0] == 'Your Room':\n",
        "                counts_s_b[idx, 2] += 1\n",
        "        idx += 1\n",
        "\n",
        "# plotting the graph\n",
        "\n",
        "plt.figure(figsize=(12,7))\n",
        "plt.title('In which block you stay? vs Where you like to study?')\n",
        "plt.bar(value_blocks, counts_s_b[:, 0], color='green', label='Academic Block')\n",
        "plt.bar(value_blocks, counts_s_b[:, 1], bottom=counts_s_b[:, 0], color='orange', label=\"Your Friends' room\")\n",
        "plt.bar(value_blocks, counts_s_b[:, 2], bottom=counts_s_b[:, 1]+counts_s_b[:, 0], color='steelblue', label='Your Room')\n",
        "plt.legend()\n",
        "plt.show()"
      ]
    },
    {
      "cell_type": "markdown",
      "metadata": {
        "id": "1hq5Dd16wgUN"
      },
      "source": [
        "**Do you prefer to study alone?** vs **Program you are enrolled in**"
      ]
    },
    {
      "cell_type": "code",
      "execution_count": 17,
      "metadata": {
        "colab": {
          "base_uri": "https://localhost:8080/",
          "height": 444
        },
        "id": "mpu5xH4hwewW",
        "outputId": "a05959bf-2d2a-43f6-e87f-24afe5b70407"
      },
      "outputs": [
        {
          "data": {
            "image/png": "[encoded data removed]",
            "text/plain": [
              "<Figure size 864x504 with 1 Axes>"
            ]
          },
          "metadata": {
            "needs_background": "light"
          },
          "output_type": "display_data"
        }
      ],
      "source": [
        "value_study = ['Alone', 'With a friend', 'Prefer Group Study']\n",
        "counts_s_b = np.zeros((3, 3))\n",
        "for i in range(data_numpy.shape[0]):\n",
        "    idx = 0\n",
        "    for j in value_study:\n",
        "        if j == data_numpy[i, 2]:\n",
        "            if data_numpy[i, 7] == 'Undergraduate':\n",
        "                counts_s_b[idx, 0] += 1\n",
        "            if data_numpy[i, 7] == \"Postgraduate\":\n",
        "                counts_s_b[idx, 1] += 1\n",
        "            if data_numpy[i, 7] == 'PHD':\n",
        "                counts_s_b[idx, 2] += 1\n",
        "        idx += 1\n",
        "\n",
        "# plotting the graph\n",
        "plt.figure(figsize=(12, 7))\n",
        "plt.title('do you prefer to study alone ? vs which program you are enrolled in ?')\n",
        "plt.bar(value_study, counts_s_b[:, 0], color='orange', label='Undergraduate')\n",
        "plt.bar(value_study, counts_s_b[:, 1], bottom=counts_s_b[:, 0], color='steelblue', label=\"Postgraduate\")\n",
        "plt.bar(value_study, counts_s_b[:, 2], bottom=counts_s_b[:, 1]+counts_s_b[:, 0], color='yellow', label='PhD')\n",
        "plt.legend()\n",
        "plt.show()"
      ]
    },
    {
      "cell_type": "markdown",
      "metadata": {
        "id": "CuNLZqRUwifc"
      },
      "source": [
        "**Lecture recordings/slides** vs **number of hours you study at one go?**"
      ]
    },
    {
      "cell_type": "code",
      "execution_count": 18,
      "metadata": {
        "colab": {
          "base_uri": "https://localhost:8080/",
          "height": 444
        },
        "id": "1OUkZ1NXwkjW",
        "outputId": "529790d4-7640-4727-93b0-4a4961ba0f72"
      },
      "outputs": [
        {
          "data": {
            "image/png": "[encoded data removed]",
            "text/plain": [
              "<Figure size 864x504 with 1 Axes>"
            ]
          },
          "metadata": {
            "needs_background": "light"
          },
          "output_type": "display_data"
        }
      ],
      "source": [
        "counts_s_b = np.zeros((7, 2))\n",
        "for i in range(data_numpy.shape[0]):\n",
        "    idx = 0\n",
        "    for j in value_hrs:\n",
        "        if j == data_numpy[i, 3]:\n",
        "            if data_numpy[i, 10] == 'Recording':\n",
        "                counts_s_b[idx, 0] += 1\n",
        "            if data_numpy[i, 10] == \"Slides\":\n",
        "                counts_s_b[idx, 1] += 1\n",
        "        idx += 1\n",
        "\n",
        "# plotting the graph\n",
        "plt.figure(figsize=(12, 7))\n",
        "plt.title('number of study hours vs do you prefer recordings or slides ?')\n",
        "plt.bar(value_hrs, counts_s_b[:, 0], color='orange', label='Lecture Recordings')\n",
        "plt.bar(value_hrs, counts_s_b[:, 1], bottom=counts_s_b[:, 0], color='yellow', label=\"Lecture Slides\")\n",
        "plt.legend()\n",
        "plt.show()\n"
      ]
    },
    {
      "cell_type": "markdown",
      "metadata": {
        "id": "Q7uPCyNMwoit"
      },
      "source": [
        "**Number of study hours** vs **Consumption of snacks**"
      ]
    },
    {
      "cell_type": "code",
      "execution_count": 19,
      "metadata": {
        "colab": {
          "base_uri": "https://localhost:8080/",
          "height": 444
        },
        "id": "RRbxaBt7wpD4",
        "outputId": "740d82d9-248c-4dbd-eec2-cd9f3d66625d"
      },
      "outputs": [
        {
          "data": {
            "image/png": "[encoded data removed]",
            "text/plain": [
              "<Figure size 864x504 with 1 Axes>"
            ]
          },
          "metadata": {
            "needs_background": "light"
          },
          "output_type": "display_data"
        }
      ],
      "source": [
        "# segmented bar plot for number of study hours vs consumption of snacks\n",
        "\n",
        "counts_s_b = np.zeros((7, 2))\n",
        "for i in range(data_numpy.shape[0]):\n",
        "    idx = 0\n",
        "    for j in value_hrs:\n",
        "        if j == data_numpy[i, 3]:\n",
        "            if data_numpy[i, 4] == 'Yes' or data_numpy[i, 4] == 'Sometimes':\n",
        "                counts_s_b[idx, 0] += 1\n",
        "            if data_numpy[i, 4] == \"No\":\n",
        "                counts_s_b[idx, 1] += 1\n",
        "        idx += 1\n",
        "\n",
        "# plotting the graph\n",
        "plt.figure(figsize=(12, 7))\n",
        "plt.title('number of study hours vs do you have snacks?')\n",
        "plt.bar(value_hrs, counts_s_b[:, 0], color='steelblue', label='Snacks')\n",
        "plt.bar(value_hrs, counts_s_b[:, 1], bottom=counts_s_b[:, 0], color='orange', label=\"No Snacks\")\n",
        "plt.legend()\n",
        "plt.show()"
      ]
    },
    {
      "cell_type": "markdown",
      "metadata": {
        "id": "5139aab-8yS0"
      },
      "source": [
        "# **Hypothesis Testing:**\n",
        "### Case-1"
      ]
    },
    {
      "cell_type": "code",
      "execution_count": 20,
      "metadata": {
        "id": "EvC2UwEapsMv"
      },
      "outputs": [],
      "source": [
        "programs = df[['which program are you enrolled in ?', 'how many hours do you study in one go ?']]\n",
        "\n",
        "ug = programs[programs['which program are you enrolled in ?'] == 'Undergraduate']\n",
        "ug.rename(columns = {'how many hours do you study in one go ?': 'how many hours do a undergraduate study in one go ?'}, inplace = True)\n",
        "non_ug = programs[programs['which program are you enrolled in ?'] != 'Undergraduate']\n",
        "non_ug.rename(columns = {'how many hours do you study in one go ?': 'how many hours do a postgraduate/PhD study in one go ?'}, inplace = True)\n",
        "\n"
      ]
    },
    {
      "cell_type": "code",
      "execution_count": 21,
      "metadata": {
        "colab": {
          "base_uri": "https://localhost:8080/",
          "height": 300
        },
        "id": "BI2COR9qqLaq",
        "outputId": "9c22e7ba-c2d3-4ce0-8d3a-9d425f3a06b4"
      },
      "outputs": [
        {
          "data": {
            "text/html": [
              "<div>\n",
              "<style scoped>\n",
              "    .dataframe tbody tr th:only-of-type {\n",
              "        vertical-align: middle;\n",
              "    }\n",
              "\n",
              "    .dataframe tbody tr th {\n",
              "        vertical-align: top;\n",
              "    }\n",
              "\n",
              "    .dataframe thead th {\n",
              "        text-align: right;\n",
              "    }\n",
              "</style>\n",
              "<table border=\"1\" class=\"dataframe\">\n",
              "  <thead>\n",
              "    <tr style=\"text-align: right;\">\n",
              "      <th></th>\n",
              "      <th>how many hours do a undergraduate study in one go ?</th>\n",
              "    </tr>\n",
              "  </thead>\n",
              "  <tbody>\n",
              "    <tr>\n",
              "      <th>count</th>\n",
              "      <td>87.000000</td>\n",
              "    </tr>\n",
              "    <tr>\n",
              "      <th>mean</th>\n",
              "      <td>2.500000</td>\n",
              "    </tr>\n",
              "    <tr>\n",
              "      <th>std</th>\n",
              "      <td>1.219989</td>\n",
              "    </tr>\n",
              "    <tr>\n",
              "      <th>min</th>\n",
              "      <td>1.500000</td>\n",
              "    </tr>\n",
              "    <tr>\n",
              "      <th>25%</th>\n",
              "      <td>1.500000</td>\n",
              "    </tr>\n",
              "    <tr>\n",
              "      <th>50%</th>\n",
              "      <td>2.500000</td>\n",
              "    </tr>\n",
              "    <tr>\n",
              "      <th>75%</th>\n",
              "      <td>3.500000</td>\n",
              "    </tr>\n",
              "    <tr>\n",
              "      <th>max</th>\n",
              "      <td>7.500000</td>\n",
              "    </tr>\n",
              "  </tbody>\n",
              "</table>\n",
              "</div>"
            ],
            "text/plain": [
              "       how many hours do a undergraduate study in one go ?\n",
              "count                                          87.000000  \n",
              "mean                                            2.500000  \n",
              "std                                             1.219989  \n",
              "min                                             1.500000  \n",
              "25%                                             1.500000  \n",
              "50%                                             2.500000  \n",
              "75%                                             3.500000  \n",
              "max                                             7.500000  "
            ]
          },
          "execution_count": 21,
          "metadata": {},
          "output_type": "execute_result"
        }
      ],
      "source": [
        "ug.describe()"
      ]
    },
    {
      "cell_type": "code",
      "execution_count": 22,
      "metadata": {
        "colab": {
          "base_uri": "https://localhost:8080/",
          "height": 300
        },
        "id": "eTdVS3cd_v7Q",
        "outputId": "ad696c85-92ff-4890-f1f4-c7993eead3e2"
      },
      "outputs": [
        {
          "data": {
            "text/html": [
              "<div>\n",
              "<style scoped>\n",
              "    .dataframe tbody tr th:only-of-type {\n",
              "        vertical-align: middle;\n",
              "    }\n",
              "\n",
              "    .dataframe tbody tr th {\n",
              "        vertical-align: top;\n",
              "    }\n",
              "\n",
              "    .dataframe thead th {\n",
              "        text-align: right;\n",
              "    }\n",
              "</style>\n",
              "<table border=\"1\" class=\"dataframe\">\n",
              "  <thead>\n",
              "    <tr style=\"text-align: right;\">\n",
              "      <th></th>\n",
              "      <th>how many hours do a postgraduate/PhD study in one go ?</th>\n",
              "    </tr>\n",
              "  </thead>\n",
              "  <tbody>\n",
              "    <tr>\n",
              "      <th>count</th>\n",
              "      <td>31.000000</td>\n",
              "    </tr>\n",
              "    <tr>\n",
              "      <th>mean</th>\n",
              "      <td>2.370968</td>\n",
              "    </tr>\n",
              "    <tr>\n",
              "      <th>std</th>\n",
              "      <td>1.335214</td>\n",
              "    </tr>\n",
              "    <tr>\n",
              "      <th>min</th>\n",
              "      <td>1.500000</td>\n",
              "    </tr>\n",
              "    <tr>\n",
              "      <th>25%</th>\n",
              "      <td>1.500000</td>\n",
              "    </tr>\n",
              "    <tr>\n",
              "      <th>50%</th>\n",
              "      <td>1.500000</td>\n",
              "    </tr>\n",
              "    <tr>\n",
              "      <th>75%</th>\n",
              "      <td>2.500000</td>\n",
              "    </tr>\n",
              "    <tr>\n",
              "      <th>max</th>\n",
              "      <td>7.500000</td>\n",
              "    </tr>\n",
              "  </tbody>\n",
              "</table>\n",
              "</div>"
            ],
            "text/plain": [
              "       how many hours do a postgraduate/PhD study in one go ?\n",
              "count                                          31.000000     \n",
              "mean                                            2.370968     \n",
              "std                                             1.335214     \n",
              "min                                             1.500000     \n",
              "25%                                             1.500000     \n",
              "50%                                             1.500000     \n",
              "75%                                             2.500000     \n",
              "max                                             7.500000     "
            ]
          },
          "execution_count": 22,
          "metadata": {},
          "output_type": "execute_result"
        }
      ],
      "source": [
        "non_ug.describe()\n"
      ]
    },
    {
      "cell_type": "code",
      "execution_count": 23,
      "metadata": {
        "colab": {
          "base_uri": "https://localhost:8080/"
        },
        "id": "h6z1vxGHjC8h",
        "outputId": "ca998a62-07a3-47c1-e59d-bc01ebff3453"
      },
      "outputs": [
        {
          "name": "stdout",
          "output_type": "stream",
          "text": [
            "Sample Variance of Undergraduate Students is how many hours do a undergraduate study in one go ?    1.505679\n",
            "which program are you enrolled in ?                         NaN\n",
            "dtype: float64\n",
            "Sample Variance of Postgraduate Students is how many hours do a postgraduate/PhD study in one go ?    1.842222\n",
            "which program are you enrolled in ?                            NaN\n",
            "dtype: float64\n"
          ]
        }
      ],
      "source": [
        "# Calculating sample Variance\n",
        "s_ug = (ug.std() ** 2) * ug.count() / (ug.count() - 1)\n",
        "s_non_ug = (non_ug.std() ** 2) * non_ug.count() / (non_ug.count() - 1)\n",
        "print(\"Sample Variance of Undergraduate Students is {}\".format(s_ug))\n",
        "print(\"Sample Variance of Postgraduate Students is {}\".format(s_non_ug))\n"
      ]
    },
    {
      "cell_type": "code",
      "execution_count": 24,
      "metadata": {
        "colab": {
          "base_uri": "https://localhost:8080/"
        },
        "id": "d0UHmkEEmY9W",
        "outputId": "4277bea1-9879-418b-96b0-4e8aafe594b2"
      },
      "outputs": [
        {
          "name": "stdout",
          "output_type": "stream",
          "text": [
            "-1.658095744259458\n"
          ]
        }
      ],
      "source": [
        "print(st.t.ppf(0.05 , 116))"
      ]
    },
    {
      "cell_type": "markdown",
      "metadata": {
        "id": "EnF275N3pYl3"
      },
      "source": [
        "### Case-2"
      ]
    },
    {
      "cell_type": "code",
      "execution_count": 25,
      "metadata": {
        "id": "WMS6UBidpba4"
      },
      "outputs": [],
      "source": [
        "\n",
        "programs = df[['do you prefer to study alone ?', 'how many hours do you study in one go ?']]\n",
        "\n",
        "alone = programs[programs['do you prefer to study alone ?'] == 'Alone']\n",
        "alone.rename(columns = {'how many hours do you study in one go ?': 'how many hours do a undergraduate study in one go ?'}, inplace = True)\n",
        "not_alone = programs[programs['do you prefer to study alone ?'] != 'Alone']\n",
        "not_alone.rename(columns = {'how many hours do you study in one go ?': 'how many hours do a postgraduate/PhD study in one go ?'}, inplace = True)\n"
      ]
    },
    {
      "cell_type": "code",
      "execution_count": 26,
      "metadata": {
        "colab": {
          "base_uri": "https://localhost:8080/",
          "height": 300
        },
        "id": "hNH88QZ9qOrv",
        "outputId": "9c46e6ce-10f8-4ed2-e7be-e4d9f4aa753f"
      },
      "outputs": [
        {
          "data": {
            "text/html": [
              "<div>\n",
              "<style scoped>\n",
              "    .dataframe tbody tr th:only-of-type {\n",
              "        vertical-align: middle;\n",
              "    }\n",
              "\n",
              "    .dataframe tbody tr th {\n",
              "        vertical-align: top;\n",
              "    }\n",
              "\n",
              "    .dataframe thead th {\n",
              "        text-align: right;\n",
              "    }\n",
              "</style>\n",
              "<table border=\"1\" class=\"dataframe\">\n",
              "  <thead>\n",
              "    <tr style=\"text-align: right;\">\n",
              "      <th></th>\n",
              "      <th>how many hours do a undergraduate study in one go ?</th>\n",
              "    </tr>\n",
              "  </thead>\n",
              "  <tbody>\n",
              "    <tr>\n",
              "      <th>count</th>\n",
              "      <td>85.000000</td>\n",
              "    </tr>\n",
              "    <tr>\n",
              "      <th>mean</th>\n",
              "      <td>2.488235</td>\n",
              "    </tr>\n",
              "    <tr>\n",
              "      <th>std</th>\n",
              "      <td>1.239183</td>\n",
              "    </tr>\n",
              "    <tr>\n",
              "      <th>min</th>\n",
              "      <td>1.500000</td>\n",
              "    </tr>\n",
              "    <tr>\n",
              "      <th>25%</th>\n",
              "      <td>1.500000</td>\n",
              "    </tr>\n",
              "    <tr>\n",
              "      <th>50%</th>\n",
              "      <td>2.500000</td>\n",
              "    </tr>\n",
              "    <tr>\n",
              "      <th>75%</th>\n",
              "      <td>3.500000</td>\n",
              "    </tr>\n",
              "    <tr>\n",
              "      <th>max</th>\n",
              "      <td>7.500000</td>\n",
              "    </tr>\n",
              "  </tbody>\n",
              "</table>\n",
              "</div>"
            ],
            "text/plain": [
              "       how many hours do a undergraduate study in one go ?\n",
              "count                                          85.000000  \n",
              "mean                                            2.488235  \n",
              "std                                             1.239183  \n",
              "min                                             1.500000  \n",
              "25%                                             1.500000  \n",
              "50%                                             2.500000  \n",
              "75%                                             3.500000  \n",
              "max                                             7.500000  "
            ]
          },
          "execution_count": 26,
          "metadata": {},
          "output_type": "execute_result"
        }
      ],
      "source": [
        "alone.describe()"
      ]
    },
    {
      "cell_type": "code",
      "execution_count": 27,
      "metadata": {
        "colab": {
          "base_uri": "https://localhost:8080/",
          "height": 300
        },
        "id": "r4CZr3GDqOlf",
        "outputId": "b18ce9bd-b750-4aff-d461-5344126c46ef"
      },
      "outputs": [
        {
          "data": {
            "text/html": [
              "<div>\n",
              "<style scoped>\n",
              "    .dataframe tbody tr th:only-of-type {\n",
              "        vertical-align: middle;\n",
              "    }\n",
              "\n",
              "    .dataframe tbody tr th {\n",
              "        vertical-align: top;\n",
              "    }\n",
              "\n",
              "    .dataframe thead th {\n",
              "        text-align: right;\n",
              "    }\n",
              "</style>\n",
              "<table border=\"1\" class=\"dataframe\">\n",
              "  <thead>\n",
              "    <tr style=\"text-align: right;\">\n",
              "      <th></th>\n",
              "      <th>how many hours do a postgraduate/PhD study in one go ?</th>\n",
              "    </tr>\n",
              "  </thead>\n",
              "  <tbody>\n",
              "    <tr>\n",
              "      <th>count</th>\n",
              "      <td>33.000000</td>\n",
              "    </tr>\n",
              "    <tr>\n",
              "      <th>mean</th>\n",
              "      <td>2.409091</td>\n",
              "    </tr>\n",
              "    <tr>\n",
              "      <th>std</th>\n",
              "      <td>1.283638</td>\n",
              "    </tr>\n",
              "    <tr>\n",
              "      <th>min</th>\n",
              "      <td>1.500000</td>\n",
              "    </tr>\n",
              "    <tr>\n",
              "      <th>25%</th>\n",
              "      <td>1.500000</td>\n",
              "    </tr>\n",
              "    <tr>\n",
              "      <th>50%</th>\n",
              "      <td>2.500000</td>\n",
              "    </tr>\n",
              "    <tr>\n",
              "      <th>75%</th>\n",
              "      <td>2.500000</td>\n",
              "    </tr>\n",
              "    <tr>\n",
              "      <th>max</th>\n",
              "      <td>7.500000</td>\n",
              "    </tr>\n",
              "  </tbody>\n",
              "</table>\n",
              "</div>"
            ],
            "text/plain": [
              "       how many hours do a postgraduate/PhD study in one go ?\n",
              "count                                          33.000000     \n",
              "mean                                            2.409091     \n",
              "std                                             1.283638     \n",
              "min                                             1.500000     \n",
              "25%                                             1.500000     \n",
              "50%                                             2.500000     \n",
              "75%                                             2.500000     \n",
              "max                                             7.500000     "
            ]
          },
          "execution_count": 27,
          "metadata": {},
          "output_type": "execute_result"
        }
      ],
      "source": [
        "not_alone.describe()"
      ]
    },
    {
      "cell_type": "code",
      "execution_count": 28,
      "metadata": {
        "colab": {
          "base_uri": "https://localhost:8080/"
        },
        "id": "aJg026G4qSX1",
        "outputId": "b2e58f73-b56e-43c4-b86c-c01d124420f4"
      },
      "outputs": [
        {
          "name": "stdout",
          "output_type": "stream",
          "text": [
            "Sample Variance of students studying alone is do you prefer to study alone ?                              NaN\n",
            "how many hours do a undergraduate study in one go ?    0.535574\n",
            "dtype: float64\n",
            "Sample Variance of students not studying alone is do you prefer to study alone ?                                 NaN\n",
            "how many hours do a postgraduate/PhD study in one go ?    0.647727\n",
            "dtype: float64\n"
          ]
        }
      ],
      "source": [
        "# Calculating sample variances\n",
        "s_alone = (alone.std() ** 2) * alone.count() / alone.count() - 1\n",
        "s_not_alone = (not_alone.std() ** 2) * not_alone.count() / not_alone.count() - 1\n",
        "\n",
        "print(\"Sample Variance of students studying alone is {}\".format(s_alone))\n",
        "print(\"Sample Variance of students not studying alone is {}\".format(s_not_alone))"
      ]
    },
    {
      "cell_type": "code",
      "execution_count": 29,
      "metadata": {
        "colab": {
          "base_uri": "https://localhost:8080/"
        },
        "id": "4JWEIktAslTY",
        "outputId": "fe440d83-c9ca-472c-bf10-4337dd301804"
      },
      "outputs": [
        {
          "name": "stdout",
          "output_type": "stream",
          "text": [
            "-1.658095744259458\n"
          ]
        }
      ],
      "source": [
        "print(st.t.ppf(0.05 , 116))"
      ]
    },
    {
      "cell_type": "markdown",
      "metadata": {
        "id": "RKQp1nkNsgcA"
      },
      "source": [
        "### Case 3"
      ]
    },
    {
      "cell_type": "code",
      "execution_count": 30,
      "metadata": {
        "id": "J-C1SLcgsnQe"
      },
      "outputs": [],
      "source": [
        "programs = df[['do you prefer snacks while studying ?', 'how many hours do you study in one go ?']]\n",
        "\n",
        "snacks = programs[programs['do you prefer snacks while studying ?'] == 'Yes']\n",
        "snacks.rename(columns = {'how many hours do you study in one go ?': 'how many hours do a undergraduate study in one go ?'}, inplace = True)\n",
        "no_snacks = programs[programs['do you prefer snacks while studying ?'] != 'Yes']\n",
        "no_snacks.rename(columns = {'how many hours do you study in one go ?': 'how many hours do a postgraduate/PhD study in one go ?'}, inplace = True)\n"
      ]
    },
    {
      "cell_type": "code",
      "execution_count": 31,
      "metadata": {
        "colab": {
          "base_uri": "https://localhost:8080/",
          "height": 300
        },
        "id": "3CqxDQiXtFll",
        "outputId": "ca1effdc-0fb1-4798-9433-540633a9bea4"
      },
      "outputs": [
        {
          "data": {
            "text/html": [
              "<div>\n",
              "<style scoped>\n",
              "    .dataframe tbody tr th:only-of-type {\n",
              "        vertical-align: middle;\n",
              "    }\n",
              "\n",
              "    .dataframe tbody tr th {\n",
              "        vertical-align: top;\n",
              "    }\n",
              "\n",
              "    .dataframe thead th {\n",
              "        text-align: right;\n",
              "    }\n",
              "</style>\n",
              "<table border=\"1\" class=\"dataframe\">\n",
              "  <thead>\n",
              "    <tr style=\"text-align: right;\">\n",
              "      <th></th>\n",
              "      <th>how many hours do a undergraduate study in one go ?</th>\n",
              "    </tr>\n",
              "  </thead>\n",
              "  <tbody>\n",
              "    <tr>\n",
              "      <th>count</th>\n",
              "      <td>35.000000</td>\n",
              "    </tr>\n",
              "    <tr>\n",
              "      <th>mean</th>\n",
              "      <td>2.671429</td>\n",
              "    </tr>\n",
              "    <tr>\n",
              "      <th>std</th>\n",
              "      <td>1.382362</td>\n",
              "    </tr>\n",
              "    <tr>\n",
              "      <th>min</th>\n",
              "      <td>1.500000</td>\n",
              "    </tr>\n",
              "    <tr>\n",
              "      <th>25%</th>\n",
              "      <td>1.500000</td>\n",
              "    </tr>\n",
              "    <tr>\n",
              "      <th>50%</th>\n",
              "      <td>2.500000</td>\n",
              "    </tr>\n",
              "    <tr>\n",
              "      <th>75%</th>\n",
              "      <td>3.500000</td>\n",
              "    </tr>\n",
              "    <tr>\n",
              "      <th>max</th>\n",
              "      <td>7.500000</td>\n",
              "    </tr>\n",
              "  </tbody>\n",
              "</table>\n",
              "</div>"
            ],
            "text/plain": [
              "       how many hours do a undergraduate study in one go ?\n",
              "count                                          35.000000  \n",
              "mean                                            2.671429  \n",
              "std                                             1.382362  \n",
              "min                                             1.500000  \n",
              "25%                                             1.500000  \n",
              "50%                                             2.500000  \n",
              "75%                                             3.500000  \n",
              "max                                             7.500000  "
            ]
          },
          "execution_count": 31,
          "metadata": {},
          "output_type": "execute_result"
        }
      ],
      "source": [
        "snacks.describe()"
      ]
    },
    {
      "cell_type": "code",
      "execution_count": 32,
      "metadata": {
        "colab": {
          "base_uri": "https://localhost:8080/",
          "height": 300
        },
        "id": "GnagnDoetHh8",
        "outputId": "41e21a92-898f-4e61-afb7-7ad79b3b9f80"
      },
      "outputs": [
        {
          "data": {
            "text/html": [
              "<div>\n",
              "<style scoped>\n",
              "    .dataframe tbody tr th:only-of-type {\n",
              "        vertical-align: middle;\n",
              "    }\n",
              "\n",
              "    .dataframe tbody tr th {\n",
              "        vertical-align: top;\n",
              "    }\n",
              "\n",
              "    .dataframe thead th {\n",
              "        text-align: right;\n",
              "    }\n",
              "</style>\n",
              "<table border=\"1\" class=\"dataframe\">\n",
              "  <thead>\n",
              "    <tr style=\"text-align: right;\">\n",
              "      <th></th>\n",
              "      <th>how many hours do a postgraduate/PhD study in one go ?</th>\n",
              "    </tr>\n",
              "  </thead>\n",
              "  <tbody>\n",
              "    <tr>\n",
              "      <th>count</th>\n",
              "      <td>83.000000</td>\n",
              "    </tr>\n",
              "    <tr>\n",
              "      <th>mean</th>\n",
              "      <td>2.379518</td>\n",
              "    </tr>\n",
              "    <tr>\n",
              "      <th>std</th>\n",
              "      <td>1.183191</td>\n",
              "    </tr>\n",
              "    <tr>\n",
              "      <th>min</th>\n",
              "      <td>1.500000</td>\n",
              "    </tr>\n",
              "    <tr>\n",
              "      <th>25%</th>\n",
              "      <td>1.500000</td>\n",
              "    </tr>\n",
              "    <tr>\n",
              "      <th>50%</th>\n",
              "      <td>2.500000</td>\n",
              "    </tr>\n",
              "    <tr>\n",
              "      <th>75%</th>\n",
              "      <td>2.500000</td>\n",
              "    </tr>\n",
              "    <tr>\n",
              "      <th>max</th>\n",
              "      <td>7.500000</td>\n",
              "    </tr>\n",
              "  </tbody>\n",
              "</table>\n",
              "</div>"
            ],
            "text/plain": [
              "       how many hours do a postgraduate/PhD study in one go ?\n",
              "count                                          83.000000     \n",
              "mean                                            2.379518     \n",
              "std                                             1.183191     \n",
              "min                                             1.500000     \n",
              "25%                                             1.500000     \n",
              "50%                                             2.500000     \n",
              "75%                                             2.500000     \n",
              "max                                             7.500000     "
            ]
          },
          "execution_count": 32,
          "metadata": {},
          "output_type": "execute_result"
        }
      ],
      "source": [
        "no_snacks.describe()"
      ]
    },
    {
      "cell_type": "code",
      "execution_count": 33,
      "metadata": {
        "colab": {
          "base_uri": "https://localhost:8080/"
        },
        "id": "EvkgxLtxtWln",
        "outputId": "c004813f-c88d-464b-cdd6-ff84bb0ffa57"
      },
      "outputs": [
        {
          "name": "stdout",
          "output_type": "stream",
          "text": [
            "Sample Variance of students who prefer having snacks is do you prefer snacks while studying ?                       NaN\n",
            "how many hours do a undergraduate study in one go ?    0.910924\n",
            "dtype: float64\n",
            "Sample Variance of students who donot prefer having snacks is do you prefer snacks while studying ?                          NaN\n",
            "how many hours do a postgraduate/PhD study in one go ?    0.399941\n",
            "dtype: float64\n"
          ]
        }
      ],
      "source": [
        "# Calculating sample variances\n",
        "s_snacks = (snacks.std() ** 2) * snacks.count() / snacks.count() - 1\n",
        "s_no_snacks = (no_snacks.std() ** 2) * no_snacks.count() / no_snacks.count() - 1\n",
        "\n",
        "print(\"Sample Variance of students who prefer having snacks is {}\".format(s_snacks))\n",
        "print(\"Sample Variance of students who donot prefer having snacks is {}\".format(s_no_snacks))"
      ]
    },
    {
      "cell_type": "code",
      "execution_count": 34,
      "metadata": {
        "colab": {
          "base_uri": "https://localhost:8080/"
        },
        "id": "1hbb9uG-7LxI",
        "outputId": "55f5aa7b-0a49-4d14-9001-564a72ef1eeb"
      },
      "outputs": [
        {
          "name": "stdout",
          "output_type": "stream",
          "text": [
            "-1.658095744259458\n"
          ]
        }
      ],
      "source": [
        "print(st.t.ppf(0.05 , 116))"
      ]
    },
    {
      "cell_type": "markdown",
      "metadata": {
        "id": "ye4C0kzpyI6W"
      },
      "source": [
        "### Case 4"
      ]
    },
    {
      "cell_type": "code",
      "execution_count": 35,
      "metadata": {
        "id": "Q1B9Qw2kyKBq"
      },
      "outputs": [],
      "source": [
        "\n",
        "programs = df[['do you prefer to study with lec recording or lec slides?', 'how many hours do you study in one go ?']]\n",
        "\n",
        "slides = programs[programs['do you prefer to study with lec recording or lec slides?'] == 'Slides']\n",
        "slides.rename(columns = {'how many hours do you study in one go ?': 'how many hours do a undergraduate study in one go ?'}, inplace = True)\n",
        "recording = programs[programs['do you prefer to study with lec recording or lec slides?'] != 'Slides']\n",
        "recording.rename(columns = {'how many hours do you study in one go ?': 'how many hours do a postgraduate/PhD study in one go ?'}, inplace = True)\n"
      ]
    },
    {
      "cell_type": "code",
      "execution_count": 36,
      "metadata": {
        "colab": {
          "base_uri": "https://localhost:8080/",
          "height": 300
        },
        "id": "1C0vLhLYylaL",
        "outputId": "17d2f28e-41a7-4028-8a24-f6d834e2e24e"
      },
      "outputs": [
        {
          "data": {
            "text/html": [
              "<div>\n",
              "<style scoped>\n",
              "    .dataframe tbody tr th:only-of-type {\n",
              "        vertical-align: middle;\n",
              "    }\n",
              "\n",
              "    .dataframe tbody tr th {\n",
              "        vertical-align: top;\n",
              "    }\n",
              "\n",
              "    .dataframe thead th {\n",
              "        text-align: right;\n",
              "    }\n",
              "</style>\n",
              "<table border=\"1\" class=\"dataframe\">\n",
              "  <thead>\n",
              "    <tr style=\"text-align: right;\">\n",
              "      <th></th>\n",
              "      <th>how many hours do a undergraduate study in one go ?</th>\n",
              "    </tr>\n",
              "  </thead>\n",
              "  <tbody>\n",
              "    <tr>\n",
              "      <th>count</th>\n",
              "      <td>57.000000</td>\n",
              "    </tr>\n",
              "    <tr>\n",
              "      <th>mean</th>\n",
              "      <td>2.500000</td>\n",
              "    </tr>\n",
              "    <tr>\n",
              "      <th>std</th>\n",
              "      <td>1.224745</td>\n",
              "    </tr>\n",
              "    <tr>\n",
              "      <th>min</th>\n",
              "      <td>1.500000</td>\n",
              "    </tr>\n",
              "    <tr>\n",
              "      <th>25%</th>\n",
              "      <td>1.500000</td>\n",
              "    </tr>\n",
              "    <tr>\n",
              "      <th>50%</th>\n",
              "      <td>2.500000</td>\n",
              "    </tr>\n",
              "    <tr>\n",
              "      <th>75%</th>\n",
              "      <td>2.500000</td>\n",
              "    </tr>\n",
              "    <tr>\n",
              "      <th>max</th>\n",
              "      <td>7.500000</td>\n",
              "    </tr>\n",
              "  </tbody>\n",
              "</table>\n",
              "</div>"
            ],
            "text/plain": [
              "       how many hours do a undergraduate study in one go ?\n",
              "count                                          57.000000  \n",
              "mean                                            2.500000  \n",
              "std                                             1.224745  \n",
              "min                                             1.500000  \n",
              "25%                                             1.500000  \n",
              "50%                                             2.500000  \n",
              "75%                                             2.500000  \n",
              "max                                             7.500000  "
            ]
          },
          "execution_count": 36,
          "metadata": {},
          "output_type": "execute_result"
        }
      ],
      "source": [
        "slides.describe()"
      ]
    },
    {
      "cell_type": "code",
      "execution_count": 37,
      "metadata": {
        "colab": {
          "base_uri": "https://localhost:8080/",
          "height": 300
        },
        "id": "6GKSI4SXymtE",
        "outputId": "9171e24e-e19e-42be-d504-7c1c19dcb40f"
      },
      "outputs": [
        {
          "data": {
            "text/html": [
              "<div>\n",
              "<style scoped>\n",
              "    .dataframe tbody tr th:only-of-type {\n",
              "        vertical-align: middle;\n",
              "    }\n",
              "\n",
              "    .dataframe tbody tr th {\n",
              "        vertical-align: top;\n",
              "    }\n",
              "\n",
              "    .dataframe thead th {\n",
              "        text-align: right;\n",
              "    }\n",
              "</style>\n",
              "<table border=\"1\" class=\"dataframe\">\n",
              "  <thead>\n",
              "    <tr style=\"text-align: right;\">\n",
              "      <th></th>\n",
              "      <th>how many hours do a postgraduate/PhD study in one go ?</th>\n",
              "    </tr>\n",
              "  </thead>\n",
              "  <tbody>\n",
              "    <tr>\n",
              "      <th>count</th>\n",
              "      <td>61.000000</td>\n",
              "    </tr>\n",
              "    <tr>\n",
              "      <th>mean</th>\n",
              "      <td>2.434426</td>\n",
              "    </tr>\n",
              "    <tr>\n",
              "      <th>std</th>\n",
              "      <td>1.276308</td>\n",
              "    </tr>\n",
              "    <tr>\n",
              "      <th>min</th>\n",
              "      <td>1.500000</td>\n",
              "    </tr>\n",
              "    <tr>\n",
              "      <th>25%</th>\n",
              "      <td>1.500000</td>\n",
              "    </tr>\n",
              "    <tr>\n",
              "      <th>50%</th>\n",
              "      <td>2.500000</td>\n",
              "    </tr>\n",
              "    <tr>\n",
              "      <th>75%</th>\n",
              "      <td>2.500000</td>\n",
              "    </tr>\n",
              "    <tr>\n",
              "      <th>max</th>\n",
              "      <td>7.500000</td>\n",
              "    </tr>\n",
              "  </tbody>\n",
              "</table>\n",
              "</div>"
            ],
            "text/plain": [
              "       how many hours do a postgraduate/PhD study in one go ?\n",
              "count                                          61.000000     \n",
              "mean                                            2.434426     \n",
              "std                                             1.276308     \n",
              "min                                             1.500000     \n",
              "25%                                             1.500000     \n",
              "50%                                             2.500000     \n",
              "75%                                             2.500000     \n",
              "max                                             7.500000     "
            ]
          },
          "execution_count": 37,
          "metadata": {},
          "output_type": "execute_result"
        }
      ],
      "source": [
        "recording.describe()"
      ]
    },
    {
      "cell_type": "code",
      "execution_count": 38,
      "metadata": {
        "colab": {
          "base_uri": "https://localhost:8080/"
        },
        "id": "3wG4sKkdyn4-",
        "outputId": "835df4b2-3284-40ee-d728-60dab1fa6257"
      },
      "outputs": [
        {
          "name": "stdout",
          "output_type": "stream",
          "text": [
            "The sample variance of those studying from slides is do you prefer to study with lec recording or lec slides?    NaN\n",
            "how many hours do a undergraduate study in one go ?         0.5\n",
            "dtype: float64\n",
            "The sample variance of those studying from lecture recordings is do you prefer to study with lec recording or lec slides?         NaN\n",
            "how many hours do a postgraduate/PhD study in one go ?      0.628962\n",
            "dtype: float64\n"
          ]
        }
      ],
      "source": [
        "# calculating Sample Variance\n",
        "s_slides = (slides.std() ** 2) * slides.count() / slides.count() - 1\n",
        "s_recording = (recording.std() ** 2) * recording.count() / recording.count() - 1\n",
        "print(\"The sample variance of those studying from slides is {}\".format(s_slides))\n",
        "print(\"The sample variance of those studying from lecture recordings is {}\".format(s_recording))"
      ]
    },
    {
      "cell_type": "code",
      "execution_count": 39,
      "metadata": {
        "id": "ecnb8CDs7peN"
      },
      "outputs": [
        {
          "name": "stdout",
          "output_type": "stream",
          "text": [
            "-1.658095744259458\n"
          ]
        }
      ],
      "source": [
        "print(st.t.ppf(0.05 , 116))"
      ]
    }
  ],
  "metadata": {
    "colab": {
      "collapsed_sections": [],
      "name": "MA4040_project.ipynb",
      "provenance": []
    },
    "kernelspec": {
      "display_name": "Python 3",
      "name": "python3"
    },
    "language_info": {
      "codemirror_mode": {
        "name": "ipython",
        "version": 3
      },
      "file_extension": ".py",
      "mimetype": "text/x-python",
      "name": "python",
      "nbconvert_exporter": "python",
      "pygments_lexer": "ipython3",
      "version": "3.9.7"
    }
  },
  "nbformat": 4,
  "nbformat_minor": 0
}
